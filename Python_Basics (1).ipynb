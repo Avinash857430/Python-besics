{
  "nbformat": 4,
  "nbformat_minor": 0,
  "metadata": {
    "colab": {
      "provenance": []
    },
    "kernelspec": {
      "name": "python3",
      "display_name": "Python 3"
    },
    "language_info": {
      "name": "python"
    }
  },
  "cells": [
    {
      "cell_type": "code",
      "execution_count": null,
      "metadata": {
        "id": "tWsrixcgPCps"
      },
      "outputs": [],
      "source": [
        ""
      ]
    },
    {
      "cell_type": "markdown",
      "source": [],
      "metadata": {
        "id": "Mt898BUuPd4M"
      }
    },
    {
      "cell_type": "markdown",
      "source": [
        "1. What is Python, and why is it popular?\n",
        "\n",
        "     Python is simle and easy to learn programing language and used for web development , data analysis , and automation. Its populer for because of versatile use cases and clean sentex.\n",
        "\n",
        "\n",
        "2.  What is an interpreter in Python ?\n",
        "\n",
        "    In Python, an interpreter is a program that reads and executes code line by line.\n",
        "\n",
        "3. What are pre-defined keywords in Python?\n",
        "\n",
        "   In Python predefined keywords are reserved words they have special meaning.\n",
        "   for example - print, help , import etc.\n",
        "\n",
        "4. Can keywords be used as variable names?\n",
        "   No in python keywords can not used as a variable name.\n",
        "\n",
        "5. What is mutability in Python?\n",
        "   In python we can change value of object after creation its called mutability.\n",
        "\n",
        "6. Why are lists mutable, but tuples are immutable?\n",
        "   List are mutable because of they are created designed to store dynamic collection and tupels are designed to store unchanged data.\n",
        "\n",
        "7. What is the difference between “==” and “is” operators in Python?\n",
        "   In python == means eqality and compares value and \"is\" means indentity and compares memory locattion.\n",
        "\n",
        "8. What are logical operators in Python?\n",
        "  there are 3 logical oprators in python and , or , not.\n",
        "\n",
        "9. What is type casting in Python?\n",
        "   \n",
        "   In python it means conversion of data type. for example:\n",
        "\n"
      ],
      "metadata": {
        "id": "bXGGEBH_PbJS"
      }
    },
    {
      "cell_type": "code",
      "source": [
        "x = 10 #int\n",
        "y = 3.4 # float\n",
        "\n",
        "result = x+y\n",
        "print(result)\n"
      ],
      "metadata": {
        "colab": {
          "base_uri": "https://localhost:8080/"
        },
        "id": "3PmTN8WWXDCd",
        "outputId": "df3c651d-09c0-4219-9329-62619c4d5462"
      },
      "execution_count": 1,
      "outputs": [
        {
          "output_type": "stream",
          "name": "stdout",
          "text": [
            "13.4\n"
          ]
        }
      ]
    },
    {
      "cell_type": "markdown",
      "source": [
        " 10. What is the difference between implicit and explicit type casting?\n",
        "    implicit - in means when python convert data to another type automatically like int to flat we dont need to show in manually.\n",
        "\n",
        "    explicit - We need to convert data manually.\n",
        "\n",
        "11.  What is the purpose of conditional statements in Python?\n",
        "     In python conditional statements is used to check logical data wheather vaulue is true or false.\n",
        "\n",
        "12. How does the elif statement work?\n",
        "    In python elif is used for check mutliple if condition.\n",
        "\n",
        "13. What is the difference between for and while loops?\n",
        "\n",
        "     for loops - When you know the number of iterations or when iterating over a sequence (e.g., list, string).\n",
        "\n",
        "    while loops - When you want to repeat until a specific condition is met, and you don't know the exact number of iterations.\n",
        "14. Describe a scenario where a while loop is more suitable than a for loop?\n",
        "    \n",
        "    Imagine you're building a program that asks the user to guess a number. The program should keep asking the user for a guess until they enter the correct number.\n",
        "\n",
        "    "
      ],
      "metadata": {
        "id": "kqq_T4a7Xhq2"
      }
    },
    {
      "cell_type": "code",
      "source": [
        "correct_number = 7\n",
        "user_guess = int(input(\"Guess the number: \"))\n",
        "\n",
        "while user_guess != correct_number:\n",
        "    print(\"Wrong guess! Try again.\")\n",
        "    user_guess = int(input(\"Guess the number: \"))\n",
        "\n",
        "print(\"Correct! You guessed the number.\")"
      ],
      "metadata": {
        "colab": {
          "base_uri": "https://localhost:8080/"
        },
        "id": "4CUTW5v8byfO",
        "outputId": "67a385cf-acbe-42a6-f168-ed9d9fbd6d6f"
      },
      "execution_count": 2,
      "outputs": [
        {
          "output_type": "stream",
          "name": "stdout",
          "text": [
            "Guess the number: 8\n",
            "Wrong guess! Try again.\n",
            "Guess the number: 7\n",
            "Correct! You guessed the number.\n"
          ]
        }
      ]
    },
    {
      "cell_type": "markdown",
      "source": [
        "1. Write a Python program to print \"Hello, World!?\n",
        "\n"
      ],
      "metadata": {
        "id": "OtBMk0tjcCTi"
      }
    },
    {
      "cell_type": "code",
      "source": [
        "print(\"Hello world\")"
      ],
      "metadata": {
        "colab": {
          "base_uri": "https://localhost:8080/"
        },
        "id": "4uegFvVfcP3b",
        "outputId": "af0f6021-fa51-46f6-f27c-162484ae86d0"
      },
      "execution_count": 3,
      "outputs": [
        {
          "output_type": "stream",
          "name": "stdout",
          "text": [
            "Hello world\n"
          ]
        }
      ]
    },
    {
      "cell_type": "markdown",
      "source": [],
      "metadata": {
        "id": "Q_NoEsUIcOsL"
      }
    },
    {
      "cell_type": "markdown",
      "source": [
        "2. Write a Python program that displays your name and age?\n"
      ],
      "metadata": {
        "id": "0H_75oLXcWG7"
      }
    },
    {
      "cell_type": "code",
      "source": [
        "name = \"Avinash\"\n",
        "age = 25\n",
        "\n",
        "print(\"Name:\", name, \"Age:\", age)"
      ],
      "metadata": {
        "colab": {
          "base_uri": "https://localhost:8080/"
        },
        "id": "OsKDXmdkdaTc",
        "outputId": "0a1f00c8-72e4-489d-a848-d5ebfcf7795e"
      },
      "execution_count": 16,
      "outputs": [
        {
          "output_type": "stream",
          "name": "stdout",
          "text": [
            "Name: Avinash Age: 25\n"
          ]
        }
      ]
    },
    {
      "cell_type": "markdown",
      "source": [],
      "metadata": {
        "id": "zLnUlofCcci0"
      }
    },
    {
      "cell_type": "markdown",
      "source": [
        "3. Write code to print all the pre-defined keywords in Python using the keyword library?\n",
        "\n"
      ],
      "metadata": {
        "id": "LUNWJ95fej1d"
      }
    },
    {
      "cell_type": "code",
      "source": [
        "import keyword\n",
        "\n",
        "# Get the list of all Python keywords\n",
        "keywords_list = keyword.kwlist\n",
        "\n",
        "# Print the keywords\n",
        "print(\"Python Keywords:\")\n",
        "for kw in keywords_list:\n",
        "    print(kw)\n"
      ],
      "metadata": {
        "colab": {
          "base_uri": "https://localhost:8080/"
        },
        "id": "3snVR9cteqzK",
        "outputId": "be115e5e-5645-4dfd-eca9-93dfc6bc75b8"
      },
      "execution_count": 15,
      "outputs": [
        {
          "output_type": "stream",
          "name": "stdout",
          "text": [
            "Python Keywords:\n",
            "False\n",
            "None\n",
            "True\n",
            "and\n",
            "as\n",
            "assert\n",
            "async\n",
            "await\n",
            "break\n",
            "class\n",
            "continue\n",
            "def\n",
            "del\n",
            "elif\n",
            "else\n",
            "except\n",
            "finally\n",
            "for\n",
            "from\n",
            "global\n",
            "if\n",
            "import\n",
            "in\n",
            "is\n",
            "lambda\n",
            "nonlocal\n",
            "not\n",
            "or\n",
            "pass\n",
            "raise\n",
            "return\n",
            "try\n",
            "while\n",
            "with\n",
            "yield\n"
          ]
        }
      ]
    },
    {
      "cell_type": "markdown",
      "source": [],
      "metadata": {
        "id": "W9VfDEBNXdoU"
      }
    },
    {
      "cell_type": "markdown",
      "source": [
        "4.  Write a program that checks if a given word is a Python keyword?\n"
      ],
      "metadata": {
        "id": "Nm8uLiVZfz1W"
      }
    },
    {
      "cell_type": "code",
      "source": [
        "import keyword\n",
        "\n",
        "word = input(\"Enter a word: \")\n",
        "\n",
        "# Check if the word is a Python keyword\n",
        "if keyword.iskeyword(word):\n",
        "    print(f\"'{word}' is a Python keyword.\")\n",
        "else:\n",
        "    print(f\"'{word}' is not a Python keyword.\")"
      ],
      "metadata": {
        "colab": {
          "base_uri": "https://localhost:8080/"
        },
        "id": "93NI9VhRgCNn",
        "outputId": "285434ef-4aa1-48fd-f681-9eeb389b80b3"
      },
      "execution_count": 18,
      "outputs": [
        {
          "output_type": "stream",
          "name": "stdout",
          "text": [
            "Enter a word: and\n",
            "'and' is a Python keyword.\n"
          ]
        }
      ]
    },
    {
      "cell_type": "markdown",
      "source": [],
      "metadata": {
        "id": "6rVvQAB3RN9y"
      }
    },
    {
      "cell_type": "markdown",
      "source": [
        "5. Create a list and tuple in Python, and demonstrate how attempting to change an element works differently\n",
        "for each?\n",
        "\n",
        "\n"
      ],
      "metadata": {
        "id": "HLUNFX_ugec9"
      }
    },
    {
      "cell_type": "code",
      "source": [
        "my_list = [1, 2, 3, 4, 5]\n",
        "print(\"Before changeing:\" , my_list )\n",
        "\n",
        "#after changing\n",
        "\n",
        "my_list[0] = 10\n",
        "print(\"After changing:\" , my_list)\n",
        "\n"
      ],
      "metadata": {
        "colab": {
          "base_uri": "https://localhost:8080/"
        },
        "id": "vYRb2qKLgkZN",
        "outputId": "f07102bd-1d18-42a3-bda6-acfab9c030ce"
      },
      "execution_count": 23,
      "outputs": [
        {
          "output_type": "stream",
          "name": "stdout",
          "text": [
            "Before changeing: [1, 2, 3, 4, 5]\n",
            "After changing: [10, 2, 3, 4, 5]\n"
          ]
        }
      ]
    },
    {
      "cell_type": "markdown",
      "source": [],
      "metadata": {
        "id": "zfepaqBnPdON"
      }
    },
    {
      "cell_type": "markdown",
      "source": [
        "6. Write a function to demonstrate the behavior of mutable and immutable arguments?\n",
        "\n"
      ],
      "metadata": {
        "id": "yKJUc0jvh1C-"
      }
    },
    {
      "cell_type": "code",
      "source": [
        "def update_things(city, places):\n",
        "    city = \"Delhi\"\n",
        "    places.append(\"Museum\")\n",
        "    print(\"Inside function - city:\", city)\n",
        "    print(\"Inside function - places:\", places)\n",
        "\n",
        "my_city = \"Mumbai\"\n",
        "my_places = [\"Beach\", \"Mall\"]\n",
        "\n",
        "update_things(my_city, my_places)\n",
        "\n",
        "print(\"Outside function - city:\", my_city)\n",
        "print(\"Outside function - places:\", my_places)\n"
      ],
      "metadata": {
        "colab": {
          "base_uri": "https://localhost:8080/"
        },
        "id": "dqMPcF8ah7ED",
        "outputId": "63a9adfc-dbe8-474e-b220-3d45c7cffd9d"
      },
      "execution_count": 24,
      "outputs": [
        {
          "output_type": "stream",
          "name": "stdout",
          "text": [
            "Inside function - city: Delhi\n",
            "Inside function - places: ['Beach', 'Mall', 'Museum']\n",
            "Outside function - city: Mumbai\n",
            "Outside function - places: ['Beach', 'Mall', 'Museum']\n"
          ]
        }
      ]
    },
    {
      "cell_type": "code",
      "source": [],
      "metadata": {
        "id": "urjEx9rjkTIL"
      },
      "execution_count": null,
      "outputs": []
    },
    {
      "cell_type": "markdown",
      "source": [
        "7. Write a program that performs basic arithmetic operations on two user-input numbers?\n"
      ],
      "metadata": {
        "id": "RwP0dfvfkfEz"
      }
    },
    {
      "cell_type": "code",
      "source": [
        "#Taking inpur from user:\n",
        "\n",
        "Num1 = float(input(\"enter your number here\"))\n",
        "Num2 = float(input(\"enter your number here \"))\n",
        "\n",
        "#performing arithmetic oprations\n",
        "\n",
        "\n",
        "addition = Num1 + Num2\n",
        "subtraction = Num1 - Num2\n",
        "multiplication = Num1 * Num2\n",
        "division = Num1 / Num2\n",
        "\n",
        "\n",
        "#performing results\n",
        "\n",
        "print(\"Addition:\", addition)\n",
        "print(\"Subtraction:\", subtraction)\n",
        "print(\"Multiplication:\", multiplication)\n",
        "print(\"Division:\", division)"
      ],
      "metadata": {
        "colab": {
          "base_uri": "https://localhost:8080/"
        },
        "id": "LvLuysQEk0Ue",
        "outputId": "734ff1b8-94f0-4468-fad9-7970fc495571"
      },
      "execution_count": 28,
      "outputs": [
        {
          "output_type": "stream",
          "name": "stdout",
          "text": [
            "enter your number here10\n",
            "enter your number here 5\n",
            "Addition: 15.0\n",
            "Subtraction: 5.0\n",
            "Multiplication: 50.0\n",
            "Division: 2.0\n"
          ]
        }
      ]
    },
    {
      "cell_type": "code",
      "source": [],
      "metadata": {
        "id": "RKPwBEoplf1J"
      },
      "execution_count": null,
      "outputs": []
    },
    {
      "cell_type": "markdown",
      "source": [
        "8. Write a program to demonstrate the use of logical operators.\n",
        "\n",
        "\n"
      ],
      "metadata": {
        "id": "vg1s91bVl7sF"
      }
    },
    {
      "cell_type": "code",
      "source": [
        "#taking input from user\n",
        "\n",
        "x = int(input('enter your number here'))\n",
        "y = int(input('enter your number'))\n",
        "\n",
        "if x < 0 and y < 0:\n",
        "                 print(\"Both numbers are negative\")\n",
        "\n",
        "\n",
        "if x < 0 or y > 0:\n",
        "               print(\"At least one number is positive\")\n"
      ],
      "metadata": {
        "colab": {
          "base_uri": "https://localhost:8080/"
        },
        "id": "JBAqdDc5mjNK",
        "outputId": "2779cec2-e741-43a1-d093-b7293e492ad0"
      },
      "execution_count": 36,
      "outputs": [
        {
          "output_type": "stream",
          "name": "stdout",
          "text": [
            "enter your number here12\n",
            "enter your number13\n",
            "At least one number is positive\n"
          ]
        }
      ]
    },
    {
      "cell_type": "code",
      "source": [],
      "metadata": {
        "id": "_eAB3-1QnL-i"
      },
      "execution_count": null,
      "outputs": []
    },
    {
      "cell_type": "markdown",
      "source": [
        " 9. Write a Python program to convert user input from string to integer, float, and boolean types?\n",
        "\n",
        ""
      ],
      "metadata": {
        "id": "ISdnCOeHpLsH"
      }
    },
    {
      "cell_type": "code",
      "source": [
        "# Taking user input as a string\n",
        "user_input = input(\"Enter a value: \")\n",
        "\n",
        "# Convert to integer\n",
        "int_value = int(user_input)\n",
        "print(\"Converted to integer:\", int_value)\n",
        "\n",
        "# Convert to float\n",
        "float_value = float(user_input)\n",
        "print(\"Converted to float:\", float_value)\n",
        "\n",
        "# Convert to boolean (True for any non-empty string, False for an empty string)\n",
        "bool_value = bool(user_input)\n",
        "print(\"Converted to boolean:\", bool_value)\n"
      ],
      "metadata": {
        "colab": {
          "base_uri": "https://localhost:8080/"
        },
        "id": "3TQKRgz1pPqs",
        "outputId": "cd4183fb-d3cb-49b0-f866-1ca9f24e448b"
      },
      "execution_count": 39,
      "outputs": [
        {
          "output_type": "stream",
          "name": "stdout",
          "text": [
            "Enter a value: 5\n",
            "Converted to integer: 5\n",
            "Converted to float: 5.0\n",
            "Converted to boolean: True\n"
          ]
        }
      ]
    },
    {
      "cell_type": "code",
      "source": [],
      "metadata": {
        "id": "n1flXdzipnqi"
      },
      "execution_count": null,
      "outputs": []
    },
    {
      "cell_type": "markdown",
      "source": [
        " 10. Write code to demonstrate type casting with list elements?\n",
        "\n",
        ""
      ],
      "metadata": {
        "id": "cOkrps_hp04s"
      }
    },
    {
      "cell_type": "code",
      "source": [
        "# List of string elements\n",
        "string_list = [\"1\", \"3.14\", \"True\", \"0\"]\n",
        "\n",
        "# Convert string elements to integers (only if the element is a number)\n",
        "int_list = [int(x) for x in string_list if x.isdigit()]\n",
        "print(\"Converted to integers:\", int_list)\n",
        "\n",
        "# Convert string elements to floats (works even for decimal numbers)\n",
        "float_list = [float(x) if x.replace(\".\", \"\", 1).isdigit() else 0 for x in string_list]\n",
        "print(\"Converted to floats:\", float_list)\n",
        "\n",
        "# Convert string elements to booleans (non-empty string is True)\n",
        "bool_list = [bool(x) for x in string_list]\n",
        "print(\"Converted to booleans:\", bool_list)\n",
        "\n"
      ],
      "metadata": {
        "colab": {
          "base_uri": "https://localhost:8080/"
        },
        "id": "ETiKjrq2qa3N",
        "outputId": "1bcb2035-e1fa-4a40-eae0-e06d58866865"
      },
      "execution_count": 42,
      "outputs": [
        {
          "output_type": "stream",
          "name": "stdout",
          "text": [
            "Converted to integers: [1, 0]\n",
            "Converted to floats: [1.0, 3.14, 0, 0.0]\n",
            "Converted to booleans: [True, True, True, True]\n"
          ]
        }
      ]
    },
    {
      "cell_type": "code",
      "source": [],
      "metadata": {
        "id": "SXcCG2kbqb3r"
      },
      "execution_count": null,
      "outputs": []
    },
    {
      "cell_type": "markdown",
      "source": [
        "11. Write a program that checks if a number is positive, negative, or zero?\n"
      ],
      "metadata": {
        "id": "rk1k_XMNrNSD"
      }
    },
    {
      "cell_type": "code",
      "source": [
        "#taking input from user\n",
        "\n",
        "Num = int(input(\"enter your number here\"))\n",
        "\n",
        "if Num > 0:\n",
        "    print(\"Number is positive\")\n",
        "elif Num < 0:\n",
        "    print(\"Number is negative\")\n",
        "else:\n",
        "    print(\"Number is zero\")\n"
      ],
      "metadata": {
        "colab": {
          "base_uri": "https://localhost:8080/"
        },
        "id": "lmDwQqAFrU5H",
        "outputId": "8e34ed65-e5ad-41c8-e148-74e20be0ff5a"
      },
      "execution_count": 45,
      "outputs": [
        {
          "output_type": "stream",
          "name": "stdout",
          "text": [
            "enter your number here0\n",
            "Number is zero\n"
          ]
        }
      ]
    },
    {
      "cell_type": "code",
      "source": [],
      "metadata": {
        "id": "EzbqHLjwrnPz"
      },
      "execution_count": null,
      "outputs": []
    },
    {
      "cell_type": "markdown",
      "source": [
        "12. Write a for loop to print numbers from 1 to 10.\n",
        "\n"
      ],
      "metadata": {
        "id": "kVNd-bjrruN6"
      }
    },
    {
      "cell_type": "code",
      "source": [
        "for i in range(1, 11):\n",
        "    print(i)\n"
      ],
      "metadata": {
        "colab": {
          "base_uri": "https://localhost:8080/"
        },
        "id": "RKv2RVxVr6I_",
        "outputId": "7dbd9046-a539-4c82-8c2c-40d50ed3a723"
      },
      "execution_count": 46,
      "outputs": [
        {
          "output_type": "stream",
          "name": "stdout",
          "text": [
            "1\n",
            "2\n",
            "3\n",
            "4\n",
            "5\n",
            "6\n",
            "7\n",
            "8\n",
            "9\n",
            "10\n"
          ]
        }
      ]
    },
    {
      "cell_type": "code",
      "source": [],
      "metadata": {
        "id": "ea4RFFIFr6yr"
      },
      "execution_count": null,
      "outputs": []
    },
    {
      "cell_type": "markdown",
      "source": [
        "13. Write a Python program to find the sum of all even numbers between 1 and 50.\n",
        "\n"
      ],
      "metadata": {
        "id": "woUbgakPr_D7"
      }
    },
    {
      "cell_type": "code",
      "source": [
        "total = 0\n",
        "\n",
        "for i in range(1, 51):\n",
        "    if i % 2 == 0:   # check if number is even\n",
        "        total += i   # add even number to total\n",
        "\n",
        "print(\"Sum of even numbers from 1 to 50 is:\", total)\n"
      ],
      "metadata": {
        "colab": {
          "base_uri": "https://localhost:8080/"
        },
        "id": "QTC2gq4bsN8E",
        "outputId": "6c4dad5c-c6ac-4233-dad2-9238244dc8da"
      },
      "execution_count": 47,
      "outputs": [
        {
          "output_type": "stream",
          "name": "stdout",
          "text": [
            "Sum of even numbers from 1 to 50 is: 650\n"
          ]
        }
      ]
    },
    {
      "cell_type": "code",
      "source": [],
      "metadata": {
        "id": "hRYNVA9SsOl7"
      },
      "execution_count": null,
      "outputs": []
    },
    {
      "cell_type": "markdown",
      "source": [
        "14. Write a program to reverse a string using a while loop.\n"
      ],
      "metadata": {
        "id": "kmqO-L35sSUr"
      }
    },
    {
      "cell_type": "code",
      "source": [
        "text = \"hello\"\n",
        "reversed_text = \"\"\n",
        "i = len(text) - 1\n",
        "\n",
        "while i >= 0:\n",
        "    reversed_text = reversed_text + text[i]\n",
        "    i = i - 1\n",
        "\n",
        "print(reversed_text)\n"
      ],
      "metadata": {
        "colab": {
          "base_uri": "https://localhost:8080/"
        },
        "id": "96k3Ge8GsU-U",
        "outputId": "ab1cbb5a-1213-455d-e256-394ab5a763fa"
      },
      "execution_count": 48,
      "outputs": [
        {
          "output_type": "stream",
          "name": "stdout",
          "text": [
            "olleh\n"
          ]
        }
      ]
    },
    {
      "cell_type": "code",
      "source": [],
      "metadata": {
        "id": "zbtdaEjisrh2"
      },
      "execution_count": null,
      "outputs": []
    },
    {
      "cell_type": "markdown",
      "source": [
        "15. Write a Python program to calculate the factorial of a number provided by the user using a while loop.\n"
      ],
      "metadata": {
        "id": "LoovLn4Nss0F"
      }
    },
    {
      "cell_type": "code",
      "source": [
        "# Ask the user for a number\n",
        "num = int(input(\"Enter a number: \"))\n",
        "\n",
        "# Initialize factorial result\n",
        "factorial = 1\n",
        "\n",
        "# Use a counter starting from the number\n",
        "i = num\n",
        "\n",
        "while i > 0:\n",
        "    factorial = factorial * i\n",
        "    i = i - 1\n",
        "\n",
        "# Print the result\n",
        "print(\"Factorial of\", num, \"is:\", factorial)\n"
      ],
      "metadata": {
        "colab": {
          "base_uri": "https://localhost:8080/"
        },
        "id": "3yX63nMZswTM",
        "outputId": "87c9bfe5-5329-4f5b-b7c1-24c1362649e1"
      },
      "execution_count": 50,
      "outputs": [
        {
          "output_type": "stream",
          "name": "stdout",
          "text": [
            "Enter a number: 6\n",
            "Factorial of 6 is: 720\n"
          ]
        }
      ]
    },
    {
      "cell_type": "code",
      "source": [],
      "metadata": {
        "id": "ZrlPhYj-s57q"
      },
      "execution_count": null,
      "outputs": []
    }
  ]
}